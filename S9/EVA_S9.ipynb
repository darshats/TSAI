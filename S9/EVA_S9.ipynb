{
 "cells": [
  {
   "cell_type": "code",
   "execution_count": 1,
   "id": "f4f0b6a9",
   "metadata": {},
   "outputs": [],
   "source": [
    "import torch  \n",
    "import torchvision\n",
    "import numpy as np\n",
    "import torch.nn as nn\n",
    "import torch.optim as optim\n",
    "import matplotlib.pyplot as plt\n",
    "\n",
    "\n",
    "from s9model import Net\n",
    "from s9utils import create_train_test_sets, show, show_with_gradcam\n",
    "from torchsummary import summary\n",
    "from torch.utils.tensorboard import SummaryWriter"
   ]
  },
  {
   "cell_type": "code",
   "execution_count": null,
   "id": "032762d4",
   "metadata": {},
   "outputs": [],
   "source": [
    "# use_cuda = torch.cuda.is_available()\n",
    "# device = torch.device(\"cuda\" if use_cuda else \"cpu\")\n",
    "# model = Net().to(device)\n",
    "# summary(model, input_size=(3, 32, 32))\n",
    "\n",
    "## Total params: 5,461,258\n",
    "## Trainable params: 5,461,258\n",
    "## Non-trainable params: 0"
   ]
  },
  {
   "cell_type": "markdown",
   "id": "09cc915c",
   "metadata": {},
   "source": [
    "# Find LR Max, LR Min"
   ]
  },
  {
   "cell_type": "code",
   "execution_count": null,
   "id": "c19553a3",
   "metadata": {},
   "outputs": [],
   "source": [
    "# from s9utils import find_LR_max\n",
    "\n",
    "# use_cuda = torch.cuda.is_available()\n",
    "# device = torch.device(\"cuda\" if use_cuda else \"cpu\")\n",
    "\n",
    "# MEAN = 0.5\n",
    "# STD = 0.25\n",
    "# train_dataloader, test_dataloader = create_train_test_sets(MEAN, STD)\n",
    "\n",
    "# NUM_BATCHES = len(train_dataloader)\n",
    "# net = Net().to(device)\n",
    "# criterion = nn.CrossEntropyLoss()\n",
    "\n",
    "# def lr_lambda(num_steps):\n",
    "#     return 2*(num_steps+1)\n",
    "  \n",
    "# INIT_LR = 0.0001\n",
    "# optimizer = optim.Adam(net.parameters(), lr=INIT_LR)\n",
    "# scheduler = optim.lr_scheduler.LambdaLR(optimizer, lr_lambda)\n",
    "\n",
    "# x_lr = []\n",
    "# y_loss = []\n",
    "\n",
    "# for k in range(200):\n",
    "#     x_lr, y_loss = find_LR_max(net, device, train_dataloader, optimizer, criterion, scheduler, x_lr, y_loss)\n",
    "\n",
    "\n",
    "# plt.figure(figsize=(20,8))\n",
    "# plt.xscale('log')\n",
    "# plt.plot(x_lr[0:2450], y_loss[0:2450], color='green', marker='o', linestyle='dashed', linewidth=1, markersize=2)\n",
    "# plt.show()\n",
    "\n",
    "## lr max = 0.47, lr min seems like 0.001 is ok i.e. scale factor is 470."
   ]
  },
  {
   "cell_type": "markdown",
   "id": "7cc279f8",
   "metadata": {},
   "source": [
    "# Main Routine"
   ]
  },
  {
   "cell_type": "code",
   "execution_count": 17,
   "id": "bb3f6e2f",
   "metadata": {},
   "outputs": [
    {
     "name": "stdout",
     "output_type": "stream",
     "text": [
      "Files already downloaded and verified\n",
      "Files already downloaded and verified\n"
     ]
    }
   ],
   "source": [
    "## initial lr = 0.001\n",
    "use_cuda = torch.cuda.is_available()\n",
    "device = torch.device(\"cuda\" if use_cuda else \"cpu\")\n",
    "\n",
    "MEAN = 0.5\n",
    "STD = 0.25\n",
    "train_dataloader, test_dataloader = create_train_test_sets(MEAN, STD)\n",
    "\n",
    "net = Net().to(device)\n",
    "criterion = nn.CrossEntropyLoss()\n",
    "optimizer = optim.Adam(net.parameters(), lr=0.001)\n",
    "scheduler = optim.lr_scheduler.OneCycleLR(optimizer, \n",
    "                                          max_lr=0.47, \n",
    "                                          steps_per_epoch=len(train_dataloader), \n",
    "                                          epochs=24,\n",
    "                                          pct_start=5/24,\n",
    "                                          div_factor=470)"
   ]
  },
  {
   "cell_type": "code",
   "execution_count": 18,
   "id": "3fd9a3a7",
   "metadata": {},
   "outputs": [
    {
     "name": "stdout",
     "output_type": "stream",
     "text": [
      "Epoch 0\n"
     ]
    },
    {
     "name": "stderr",
     "output_type": "stream",
     "text": [
      "/tmp/ipykernel_25245/998129054.py:83: UserWarning: Implicit dimension choice for log_softmax has been deprecated. Change the call to include dim=X as an argument.\n",
      "  return F.log_softmax(x)\n"
     ]
    },
    {
     "name": "stdout",
     "output_type": "stream",
     "text": [
      "Train loss 1.8756 train accuracy 36.42\n",
      "Test loss 11.061, test accuracy 20.27\n",
      "\n",
      "Epoch 1\n",
      "Train loss 1.3984 train accuracy 50.73\n",
      "Test loss 1.620, test accuracy 49.97\n",
      "\n",
      "Epoch 2\n",
      "Train loss 1.2307 train accuracy 56.814\n",
      "Test loss 1.595, test accuracy 50.03\n",
      "\n",
      "Epoch 3\n",
      "Train loss 1.2688 train accuracy 56.104\n",
      "Test loss 2.172, test accuracy 43.6\n",
      "\n",
      "Epoch 4\n",
      "Train loss 1.2563 train accuracy 56.43\n",
      "Test loss 1.176, test accuracy 59.98\n",
      "\n",
      "Epoch 5\n",
      "Train loss 1.1288 train accuracy 60.746\n",
      "Test loss 1.044, test accuracy 63.19\n",
      "\n",
      "Epoch 6\n",
      "Train loss 1.0220 train accuracy 64.39\n",
      "Test loss 1.296, test accuracy 58.38\n",
      "\n",
      "Epoch 7\n",
      "Train loss 0.9192 train accuracy 68.074\n",
      "Test loss 1.126, test accuracy 63.72\n",
      "\n",
      "Epoch 8\n",
      "Train loss 0.8624 train accuracy 70.37\n",
      "Test loss 0.726, test accuracy 74.91\n",
      "\n",
      "Epoch 9\n",
      "Train loss 0.8196 train accuracy 71.674\n",
      "Test loss 0.981, test accuracy 67.5\n",
      "\n",
      "Epoch 10\n",
      "Train loss 0.7496 train accuracy 74.074\n",
      "Test loss 1.032, test accuracy 66.15\n",
      "\n",
      "Epoch 11\n",
      "Train loss 0.7202 train accuracy 75.072\n",
      "Test loss 0.877, test accuracy 70.3\n",
      "\n",
      "Epoch 12\n",
      "Train loss 0.6693 train accuracy 76.944\n",
      "Test loss 1.525, test accuracy 56.59\n",
      "\n",
      "Epoch 13\n",
      "Train loss 0.6284 train accuracy 78.216\n",
      "Test loss 0.767, test accuracy 73.76\n",
      "\n",
      "Epoch 14\n",
      "Train loss 0.5814 train accuracy 79.962\n",
      "Test loss 0.881, test accuracy 73.63\n",
      "\n",
      "Epoch 15\n",
      "Train loss 0.5621 train accuracy 80.622\n",
      "Test loss 0.715, test accuracy 75.86\n",
      "\n",
      "Epoch 16\n",
      "Train loss 0.5092 train accuracy 82.368\n",
      "Test loss 0.610, test accuracy 79.9\n",
      "\n",
      "Epoch 17\n",
      "Train loss 0.4787 train accuracy 83.538\n",
      "Test loss 0.628, test accuracy 79.35\n",
      "\n",
      "Epoch 18\n",
      "Train loss 0.4469 train accuracy 84.434\n",
      "Test loss 0.565, test accuracy 81.68\n",
      "\n",
      "Epoch 19\n",
      "Train loss 0.4083 train accuracy 85.75\n",
      "Test loss 0.484, test accuracy 84.01\n",
      "\n",
      "Epoch 20\n",
      "Train loss 0.3799 train accuracy 86.866\n",
      "Test loss 0.433, test accuracy 85.35\n",
      "\n",
      "Epoch 21\n",
      "Train loss 0.3547 train accuracy 87.754\n",
      "Test loss 0.423, test accuracy 85.87\n",
      "\n",
      "Epoch 22\n",
      "Train loss 0.3483 train accuracy 87.884\n",
      "Test loss 0.414, test accuracy 86.19\n",
      "\n",
      "Epoch 23\n",
      "Train loss 0.3402 train accuracy 88.334\n",
      "Test loss 0.418, test accuracy 86.17\n",
      "\n"
     ]
    }
   ],
   "source": [
    "writer = SummaryWriter('/media/App/tsai/logs')\n",
    "\n",
    "for epoch in range(24):\n",
    "    print(f'Epoch {epoch}')\n",
    "    train_acc, train_loss = train(net, device, train_dataloader, optimizer, criterion, scheduler)\n",
    "    val_acc, val_loss = test(net, device, test_dataloader, criterion)\n",
    "    writer.add_scalars('resnet', {'train_acc': train_acc, 'val_acc': val_acc}, epoch)\n",
    "    writer.flush()\n",
    "    \n",
    "writer.close()"
   ]
  },
  {
   "cell_type": "code",
   "execution_count": null,
   "id": "44ff8175",
   "metadata": {},
   "outputs": [],
   "source": [
    "dir( optim.lr_scheduler.OneCycleLR)"
   ]
  },
  {
   "cell_type": "code",
   "execution_count": null,
   "id": "f4a90123",
   "metadata": {},
   "outputs": [],
   "source": []
  }
 ],
 "metadata": {
  "kernelspec": {
   "display_name": "Python 3 (ipykernel)",
   "language": "python",
   "name": "python3"
  },
  "language_info": {
   "codemirror_mode": {
    "name": "ipython",
    "version": 3
   },
   "file_extension": ".py",
   "mimetype": "text/x-python",
   "name": "python",
   "nbconvert_exporter": "python",
   "pygments_lexer": "ipython3",
   "version": "3.9.7"
  }
 },
 "nbformat": 4,
 "nbformat_minor": 5
}
